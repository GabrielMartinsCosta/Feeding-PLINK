{
 "cells": [
  {
   "cell_type": "markdown",
   "id": "5e917c18",
   "metadata": {},
   "source": [
    "##### Import and config"
   ]
  },
  {
   "cell_type": "code",
   "execution_count": 3,
   "id": "dcd1fe02-af44-40bd-8baf-f92fe044e65c",
   "metadata": {
    "metadata": {}
   },
   "outputs": [],
   "source": [
    "import pandas as pd\n",
    "import os\n",
    "from sqlalchemy import create_engine\n",
    "import datetime as dt\n",
    "import time\n",
    "\n",
    "import Update_CM as uc\n",
    "\n",
    "days_to_get = 4\n",
    "plink = 'C:/PBI/Claro/data/extras/PLink/GENOPT/'\n",
    "plink_file = '【NPOC】Task Table.csv'\n",
    "db_user = 'Juliano Correa'"
   ]
  },
  {
   "cell_type": "code",
   "execution_count": 4,
   "id": "1483478a",
   "metadata": {
    "metadata": {}
   },
   "outputs": [],
   "source": [
    "#uc.__init__(db_user, days_to_get)\n",
    "cm_form_open = uc.get_cm()\n"
   ]
  },
  {
   "cell_type": "markdown",
   "id": "05bf2535",
   "metadata": {},
   "source": [
    "##### Read Task Export"
   ]
  },
  {
   "cell_type": "code",
   "execution_count": 5,
   "id": "766d52c6-796b-4949-a63c-efbb5dfc0c4b",
   "metadata": {
    "metadata": {}
   },
   "outputs": [
    {
     "data": {
      "text/html": [
       "<div>\n",
       "<style scoped>\n",
       "    .dataframe tbody tr th:only-of-type {\n",
       "        vertical-align: middle;\n",
       "    }\n",
       "\n",
       "    .dataframe tbody tr th {\n",
       "        vertical-align: top;\n",
       "    }\n",
       "\n",
       "    .dataframe thead th {\n",
       "        text-align: right;\n",
       "    }\n",
       "</style>\n",
       "<table border=\"1\" class=\"dataframe\">\n",
       "  <thead>\n",
       "    <tr style=\"text-align: right;\">\n",
       "      <th></th>\n",
       "      <th>content</th>\n",
       "      <th>project</th>\n",
       "      <th>start_date</th>\n",
       "      <th>due_date</th>\n",
       "      <th>creation_time</th>\n",
       "      <th>update_time</th>\n",
       "      <th>complete_time</th>\n",
       "      <th>completed_or_not</th>\n",
       "      <th>overdue</th>\n",
       "      <th>taskid</th>\n",
       "      <th>...</th>\n",
       "      <th>workflow_status</th>\n",
       "      <th>task_type</th>\n",
       "      <th>tag</th>\n",
       "      <th>note</th>\n",
       "      <th>executor</th>\n",
       "      <th>task_list</th>\n",
       "      <th>task_group</th>\n",
       "      <th>creator</th>\n",
       "      <th>priority</th>\n",
       "      <th>followers</th>\n",
       "    </tr>\n",
       "  </thead>\n",
       "  <tbody>\n",
       "    <tr>\n",
       "      <th>1010</th>\n",
       "      <td>ES01PECRU06</td>\n",
       "      <td>NPOC</td>\n",
       "      <td>2024-05-03 09:00:00</td>\n",
       "      <td>2024-06-07 18:00:00</td>\n",
       "      <td>2024-03-25 20:21:11</td>\n",
       "      <td>2024-05-03 11:20:27</td>\n",
       "      <td>NaN</td>\n",
       "      <td>N</td>\n",
       "      <td>N</td>\n",
       "      <td>NPoC-25579</td>\n",
       "      <td>...</td>\n",
       "      <td>NaN</td>\n",
       "      <td>Task</td>\n",
       "      <td>C | Cell Mapping | 4G | GEN OPT</td>\n",
       "      <td>02/04 - Analisar balanceamento</td>\n",
       "      <td>Bryan Lucas Menezes Batista(bryan.lucas.batist...</td>\n",
       "      <td>Traffic Balance</td>\n",
       "      <td>GENERAL OPTIMIZATION</td>\n",
       "      <td>Juliano Corrêa(juliano.correa.myb@h-partners.com)</td>\n",
       "      <td>Default</td>\n",
       "      <td>Juliano Corrêa | Bryan Lucas Menezes Batista</td>\n",
       "    </tr>\n",
       "    <tr>\n",
       "      <th>1011</th>\n",
       "      <td>ES01PEOLD07</td>\n",
       "      <td>NPOC</td>\n",
       "      <td>2024-05-03 09:00:00</td>\n",
       "      <td>2024-06-07 18:00:00</td>\n",
       "      <td>2024-03-25 20:21:10</td>\n",
       "      <td>2024-05-03 11:22:08</td>\n",
       "      <td>NaN</td>\n",
       "      <td>N</td>\n",
       "      <td>N</td>\n",
       "      <td>NPoC-25574</td>\n",
       "      <td>...</td>\n",
       "      <td>NaN</td>\n",
       "      <td>Task</td>\n",
       "      <td>C | Cell Mapping | 4G | GEN OPT</td>\n",
       "      <td>02/04 - Analisar balanceamento</td>\n",
       "      <td>Bryan Lucas Menezes Batista(bryan.lucas.batist...</td>\n",
       "      <td>Traffic Balance</td>\n",
       "      <td>GENERAL OPTIMIZATION</td>\n",
       "      <td>Juliano Corrêa(juliano.correa.myb@h-partners.com)</td>\n",
       "      <td>Default</td>\n",
       "      <td>Juliano Corrêa | Bryan Lucas Menezes Batista</td>\n",
       "    </tr>\n",
       "  </tbody>\n",
       "</table>\n",
       "<p>2 rows × 21 columns</p>\n",
       "</div>"
      ],
      "text/plain": [
       "          content project           start_date             due_date  \\\n",
       "1010  ES01PECRU06    NPOC  2024-05-03 09:00:00  2024-06-07 18:00:00   \n",
       "1011  ES01PEOLD07    NPOC  2024-05-03 09:00:00  2024-06-07 18:00:00   \n",
       "\n",
       "            creation_time         update_time complete_time completed_or_not  \\\n",
       "1010  2024-03-25 20:21:11 2024-05-03 11:20:27           NaN                N   \n",
       "1011  2024-03-25 20:21:10 2024-05-03 11:22:08           NaN                N   \n",
       "\n",
       "     overdue      taskid  ... workflow_status  task_type  \\\n",
       "1010       N  NPoC-25579  ...             NaN       Task   \n",
       "1011       N  NPoC-25574  ...             NaN       Task   \n",
       "\n",
       "                                  tag                            note  \\\n",
       "1010  C | Cell Mapping | 4G | GEN OPT  02/04 - Analisar balanceamento   \n",
       "1011  C | Cell Mapping | 4G | GEN OPT  02/04 - Analisar balanceamento   \n",
       "\n",
       "                                               executor        task_list  \\\n",
       "1010  Bryan Lucas Menezes Batista(bryan.lucas.batist...  Traffic Balance   \n",
       "1011  Bryan Lucas Menezes Batista(bryan.lucas.batist...  Traffic Balance   \n",
       "\n",
       "                task_group                                            creator  \\\n",
       "1010  GENERAL OPTIMIZATION  Juliano Corrêa(juliano.correa.myb@h-partners.com)   \n",
       "1011  GENERAL OPTIMIZATION  Juliano Corrêa(juliano.correa.myb@h-partners.com)   \n",
       "\n",
       "     priority                                     followers  \n",
       "1010  Default  Juliano Corrêa | Bryan Lucas Menezes Batista  \n",
       "1011  Default  Juliano Corrêa | Bryan Lucas Menezes Batista  \n",
       "\n",
       "[2 rows x 21 columns]"
      ]
     },
     "execution_count": 5,
     "metadata": {},
     "output_type": "execute_result"
    }
   ],
   "source": [
    "df_plink = pd.read_csv(plink + plink_file, parse_dates=True)\n",
    "#df_plink_rfsh = df_plink[df_plink['Task List'] == \"RF Shaping\"].copy()\n",
    "df_plink_all = df_plink[df_plink['Task List'].isin(['RF Shaping','Logic Parameter','Traffic Balance'])].copy()\n",
    "#df_plink_all = df_plink[df_plink['Task List'].isin(['Logic Parameter','Traffic Balance'])].copy()\n",
    "#df_plink_rfsh_c = df_plink_rfsh.copy()\n",
    "df_plink_all[\"Update Time\"] = pd.to_datetime(df_plink_all[\"Update Time\"])\n",
    "df_plink_all = df_plink_all[df_plink_all[\"Update Time\"].dt.date > uc.days_to_check(days_to_get)]\n",
    "df_plink_all.columns = df_plink_all.columns.astype(str).str.replace(\" \", \"_\")\n",
    "df_plink_all.columns = map(str.lower, df_plink_all.columns)\n",
    "#df_plink_rfsh_test = df_plink_rfsh[df_plink_rfsh.content == '55S01BAAMA9403']\n",
    "#df_plink_rfsh_test.head()\n",
    "df_plink_rfsh_test = df_plink_all\n",
    "#df_plink_rfsh_test = df_plink_all[df_plink_all['content'].isin(['55S01PITER4801'])]\n",
    "df_plink_rfsh_test.head(2)\n"
   ]
  },
  {
   "cell_type": "markdown",
   "id": "1d044ffa",
   "metadata": {},
   "source": [
    "##### Main"
   ]
  },
  {
   "cell_type": "code",
   "execution_count": 9,
   "id": "b7f1d15b-0e5d-4d8b-b962-369d585d80e5",
   "metadata": {
    "metadata": {}
   },
   "outputs": [
    {
     "name": "stderr",
     "output_type": "stream",
     "text": [
      "Traceback (most recent call last):\n",
      "  File \"_pydevd_bundle/pydevd_cython.pyx\", line 1078, in _pydevd_bundle.pydevd_cython.PyDBFrame.trace_dispatch\n",
      "  File \"_pydevd_bundle/pydevd_cython.pyx\", line 297, in _pydevd_bundle.pydevd_cython.PyDBFrame.do_wait_suspend\n",
      "  File \"c:\\Users\\JC_A\\anaconda3\\lib\\site-packages\\debugpy\\_vendored\\pydevd\\pydevd.py\", line 1949, in do_wait_suspend\n",
      "    keep_suspended = self._do_wait_suspend(thread, frame, event, arg, suspend_type, from_this_thread, frames_tracker)\n",
      "  File \"c:\\Users\\JC_A\\anaconda3\\lib\\site-packages\\debugpy\\_vendored\\pydevd\\pydevd.py\", line 1984, in _do_wait_suspend\n",
      "    time.sleep(0.01)\n",
      "KeyboardInterrupt\n"
     ]
    },
    {
     "ename": "KeyboardInterrupt",
     "evalue": "",
     "output_type": "error",
     "traceback": [
      "\u001b[1;31m---------------------------------------------------------------------------\u001b[0m",
      "\u001b[1;31mKeyboardInterrupt\u001b[0m                         Traceback (most recent call last)",
      "\u001b[1;32m~\\AppData\\Local\\Temp/ipykernel_44840/745448968.py\u001b[0m in \u001b[0;36m<module>\u001b[1;34m\u001b[0m\n\u001b[1;32m----> 1\u001b[1;33m \u001b[1;32mfor\u001b[0m \u001b[0mrow\u001b[0m \u001b[1;32min\u001b[0m \u001b[0mdf_plink_rfsh_test\u001b[0m\u001b[1;33m.\u001b[0m\u001b[0mitertuples\u001b[0m\u001b[1;33m(\u001b[0m\u001b[1;33m)\u001b[0m\u001b[1;33m:\u001b[0m\u001b[1;33m\u001b[0m\u001b[1;33m\u001b[0m\u001b[0m\n\u001b[0m\u001b[0;32m      2\u001b[0m     \u001b[0mpl_tag\u001b[0m \u001b[1;33m=\u001b[0m \u001b[0mrow\u001b[0m\u001b[1;33m.\u001b[0m\u001b[0mtag\u001b[0m\u001b[1;33m\u001b[0m\u001b[1;33m\u001b[0m\u001b[0m\n\u001b[0;32m      3\u001b[0m     \u001b[0mpl_object\u001b[0m \u001b[1;33m=\u001b[0m \u001b[0mrow\u001b[0m\u001b[1;33m.\u001b[0m\u001b[0mcontent\u001b[0m\u001b[1;33m\u001b[0m\u001b[1;33m\u001b[0m\u001b[0m\n\u001b[0;32m      4\u001b[0m     \u001b[1;32mif\u001b[0m \u001b[0mlen\u001b[0m\u001b[1;33m(\u001b[0m\u001b[0mpl_object\u001b[0m\u001b[1;33m)\u001b[0m \u001b[1;33m==\u001b[0m \u001b[1;36m14\u001b[0m\u001b[1;33m:\u001b[0m\u001b[1;33m\u001b[0m\u001b[1;33m\u001b[0m\u001b[0m\n\u001b[0;32m      5\u001b[0m         \u001b[0mpl_cell\u001b[0m \u001b[1;33m=\u001b[0m \u001b[0mpl_object\u001b[0m\u001b[1;33m\u001b[0m\u001b[1;33m\u001b[0m\u001b[0m\n",
      "\u001b[1;32m~\\AppData\\Local\\Temp/ipykernel_44840/745448968.py\u001b[0m in \u001b[0;36m<module>\u001b[1;34m\u001b[0m\n\u001b[1;32m----> 1\u001b[1;33m \u001b[1;32mfor\u001b[0m \u001b[0mrow\u001b[0m \u001b[1;32min\u001b[0m \u001b[0mdf_plink_rfsh_test\u001b[0m\u001b[1;33m.\u001b[0m\u001b[0mitertuples\u001b[0m\u001b[1;33m(\u001b[0m\u001b[1;33m)\u001b[0m\u001b[1;33m:\u001b[0m\u001b[1;33m\u001b[0m\u001b[1;33m\u001b[0m\u001b[0m\n\u001b[0m\u001b[0;32m      2\u001b[0m     \u001b[0mpl_tag\u001b[0m \u001b[1;33m=\u001b[0m \u001b[0mrow\u001b[0m\u001b[1;33m.\u001b[0m\u001b[0mtag\u001b[0m\u001b[1;33m\u001b[0m\u001b[1;33m\u001b[0m\u001b[0m\n\u001b[0;32m      3\u001b[0m     \u001b[0mpl_object\u001b[0m \u001b[1;33m=\u001b[0m \u001b[0mrow\u001b[0m\u001b[1;33m.\u001b[0m\u001b[0mcontent\u001b[0m\u001b[1;33m\u001b[0m\u001b[1;33m\u001b[0m\u001b[0m\n\u001b[0;32m      4\u001b[0m     \u001b[1;32mif\u001b[0m \u001b[0mlen\u001b[0m\u001b[1;33m(\u001b[0m\u001b[0mpl_object\u001b[0m\u001b[1;33m)\u001b[0m \u001b[1;33m==\u001b[0m \u001b[1;36m14\u001b[0m\u001b[1;33m:\u001b[0m\u001b[1;33m\u001b[0m\u001b[1;33m\u001b[0m\u001b[0m\n\u001b[0;32m      5\u001b[0m         \u001b[0mpl_cell\u001b[0m \u001b[1;33m=\u001b[0m \u001b[0mpl_object\u001b[0m\u001b[1;33m\u001b[0m\u001b[1;33m\u001b[0m\u001b[0m\n",
      "\u001b[1;32m_pydevd_bundle/pydevd_cython.pyx\u001b[0m in \u001b[0;36m_pydevd_bundle.pydevd_cython.SafeCallWrapper.__call__\u001b[1;34m()\u001b[0m\n",
      "\u001b[1;32m_pydevd_bundle/pydevd_cython.pyx\u001b[0m in \u001b[0;36m_pydevd_bundle.pydevd_cython.PyDBFrame.trace_dispatch\u001b[1;34m()\u001b[0m\n",
      "\u001b[1;32m_pydevd_bundle/pydevd_cython.pyx\u001b[0m in \u001b[0;36m_pydevd_bundle.pydevd_cython.PyDBFrame.trace_dispatch\u001b[1;34m()\u001b[0m\n",
      "\u001b[1;32m_pydevd_bundle/pydevd_cython.pyx\u001b[0m in \u001b[0;36m_pydevd_bundle.pydevd_cython.PyDBFrame.trace_dispatch\u001b[1;34m()\u001b[0m\n",
      "\u001b[1;32m_pydevd_bundle/pydevd_cython.pyx\u001b[0m in \u001b[0;36m_pydevd_bundle.pydevd_cython.PyDBFrame.do_wait_suspend\u001b[1;34m()\u001b[0m\n",
      "\u001b[1;32mc:\\Users\\JC_A\\anaconda3\\lib\\site-packages\\debugpy\\_vendored\\pydevd\\pydevd.py\u001b[0m in \u001b[0;36mdo_wait_suspend\u001b[1;34m(self, thread, frame, event, arg, exception_type)\u001b[0m\n\u001b[0;32m   1947\u001b[0m \u001b[1;33m\u001b[0m\u001b[0m\n\u001b[0;32m   1948\u001b[0m             \u001b[1;32mwith\u001b[0m \u001b[0mself\u001b[0m\u001b[1;33m.\u001b[0m\u001b[0m_threads_suspended_single_notification\u001b[0m\u001b[1;33m.\u001b[0m\u001b[0mnotify_thread_suspended\u001b[0m\u001b[1;33m(\u001b[0m\u001b[0mthread_id\u001b[0m\u001b[1;33m,\u001b[0m \u001b[0mstop_reason\u001b[0m\u001b[1;33m)\u001b[0m\u001b[1;33m:\u001b[0m\u001b[1;33m\u001b[0m\u001b[1;33m\u001b[0m\u001b[0m\n\u001b[1;32m-> 1949\u001b[1;33m                 \u001b[0mkeep_suspended\u001b[0m \u001b[1;33m=\u001b[0m \u001b[0mself\u001b[0m\u001b[1;33m.\u001b[0m\u001b[0m_do_wait_suspend\u001b[0m\u001b[1;33m(\u001b[0m\u001b[0mthread\u001b[0m\u001b[1;33m,\u001b[0m \u001b[0mframe\u001b[0m\u001b[1;33m,\u001b[0m \u001b[0mevent\u001b[0m\u001b[1;33m,\u001b[0m \u001b[0marg\u001b[0m\u001b[1;33m,\u001b[0m \u001b[0msuspend_type\u001b[0m\u001b[1;33m,\u001b[0m \u001b[0mfrom_this_thread\u001b[0m\u001b[1;33m,\u001b[0m \u001b[0mframes_tracker\u001b[0m\u001b[1;33m)\u001b[0m\u001b[1;33m\u001b[0m\u001b[1;33m\u001b[0m\u001b[0m\n\u001b[0m\u001b[0;32m   1950\u001b[0m \u001b[1;33m\u001b[0m\u001b[0m\n\u001b[0;32m   1951\u001b[0m         \u001b[0mframes_list\u001b[0m \u001b[1;33m=\u001b[0m \u001b[1;32mNone\u001b[0m\u001b[1;33m\u001b[0m\u001b[1;33m\u001b[0m\u001b[0m\n",
      "\u001b[1;32mc:\\Users\\JC_A\\anaconda3\\lib\\site-packages\\debugpy\\_vendored\\pydevd\\pydevd.py\u001b[0m in \u001b[0;36m_do_wait_suspend\u001b[1;34m(self, thread, frame, event, arg, suspend_type, from_this_thread, frames_tracker)\u001b[0m\n\u001b[0;32m   1982\u001b[0m \u001b[1;33m\u001b[0m\u001b[0m\n\u001b[0;32m   1983\u001b[0m             \u001b[0mself\u001b[0m\u001b[1;33m.\u001b[0m\u001b[0mprocess_internal_commands\u001b[0m\u001b[1;33m(\u001b[0m\u001b[1;33m)\u001b[0m\u001b[1;33m\u001b[0m\u001b[1;33m\u001b[0m\u001b[0m\n\u001b[1;32m-> 1984\u001b[1;33m             \u001b[0mtime\u001b[0m\u001b[1;33m.\u001b[0m\u001b[0msleep\u001b[0m\u001b[1;33m(\u001b[0m\u001b[1;36m0.01\u001b[0m\u001b[1;33m)\u001b[0m\u001b[1;33m\u001b[0m\u001b[1;33m\u001b[0m\u001b[0m\n\u001b[0m\u001b[0;32m   1985\u001b[0m \u001b[1;33m\u001b[0m\u001b[0m\n\u001b[0;32m   1986\u001b[0m         \u001b[0mself\u001b[0m\u001b[1;33m.\u001b[0m\u001b[0mcancel_async_evaluation\u001b[0m\u001b[1;33m(\u001b[0m\u001b[0mget_current_thread_id\u001b[0m\u001b[1;33m(\u001b[0m\u001b[0mthread\u001b[0m\u001b[1;33m)\u001b[0m\u001b[1;33m,\u001b[0m \u001b[0mstr\u001b[0m\u001b[1;33m(\u001b[0m\u001b[0mid\u001b[0m\u001b[1;33m(\u001b[0m\u001b[0mframe\u001b[0m\u001b[1;33m)\u001b[0m\u001b[1;33m)\u001b[0m\u001b[1;33m)\u001b[0m\u001b[1;33m\u001b[0m\u001b[1;33m\u001b[0m\u001b[0m\n",
      "\u001b[1;31mKeyboardInterrupt\u001b[0m: "
     ]
    }
   ],
   "source": [
    "for row in df_plink_rfsh_test.itertuples():\n",
    "    pl_tag = row.tag\n",
    "    pl_object = row.content\n",
    "    if len(pl_object) == 14:\n",
    "        pl_cell = pl_object\n",
    "        pl_node = ''\n",
    "        if pl_cell[:1] == '5':\n",
    "            pl_tec = 'nr'\n",
    "        else:\n",
    "            pl_tec = 'lte'\n",
    "    elif len(pl_object) == 10:\n",
    "        pl_cell = ''\n",
    "        pl_node = pl_object[-7:]\n",
    "        if '4G' in pl_tag:\n",
    "            pl_tec = 'lte'\n",
    "        elif '5G' in pl_tag:\n",
    "            pl_tec = 'nr'\n",
    "    pl_taskid = row.taskid\n",
    "    pl_note = row.note\n",
    "    pl_note_r = pl_note.replace('%','%%')\n",
    "    pl_s_date = row.start_date\n",
    "    pl_completed_or_not = row.completed_or_not\n",
    "    pl_complete_time = str(row.complete_time)\n",
    "    pl_owner = ''\n",
    "    pl_tasklist = row.task_list\n",
    "    if 'RTL' in pl_tag:\n",
    "        pl_owner = 'RTL'\n",
    "    elif 'GEN OPT' in pl_tag:\n",
    "        pl_owner = 'GEN OPT'\n",
    "    _data_plan = pl_s_date[:10]\n",
    "    if pl_complete_time != 'nan':\n",
    "        _data_term = pl_complete_time[:10]\n",
    "    else:\n",
    "        _data_term = ''    \n",
    "    _acao = f'{pl_note_r}'\n",
    "    print(pl_tasklist)\n",
    "    if pl_tasklist == 'RF Shaping':\n",
    "        uc.check_cell_task(pl_cell, pl_taskid, _data_plan, _data_term, _acao, pl_tasklist, pl_owner, pl_note_r, pl_tec, cm_form_open, db_user)\n",
    "        #print(pl_node, pl_cell,  pl_note, pl_owner,  pl_taskid, pl_s_date[:10], pl_tec, pl_completed_or_not, pl_complete_time, pl_tasklist)\n",
    "    if pl_tasklist == 'Traffic Balance':\n",
    "        uc.check_node_task(pl_node, pl_taskid, _data_plan, _data_term, _acao, pl_tasklist, pl_owner, pl_note_r, pl_tec, cm_form_open, db_user)\n",
    "    if pl_tasklist == 'Logic Parameter':\n",
    "        uc.check_node_task(pl_node, pl_taskid, _data_plan, _data_term, _acao, pl_tasklist, pl_owner, pl_note_r, pl_tec, cm_form_open, db_user)    \n",
    "    #\n",
    "    \n",
    "    print('--------------') \n",
    "    "
   ]
  },
  {
   "cell_type": "code",
   "execution_count": 5,
   "id": "0db66b89",
   "metadata": {},
   "outputs": [
    {
     "name": "stdout",
     "output_type": "stream",
     "text": [
      "fim\n"
     ]
    }
   ],
   "source": [
    "print('fim')"
   ]
  }
 ],
 "metadata": {
  "kernelspec": {
   "display_name": "Python 3 (ipykernel)",
   "language": "python",
   "name": "python3"
  },
  "language_info": {
   "codemirror_mode": {
    "name": "ipython",
    "version": 3
   },
   "file_extension": ".py",
   "mimetype": "text/x-python",
   "name": "python",
   "nbconvert_exporter": "python",
   "pygments_lexer": "ipython3",
   "version": "3.9.7"
  }
 },
 "nbformat": 4,
 "nbformat_minor": 5
}
